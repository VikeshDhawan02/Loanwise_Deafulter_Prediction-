{
  "nbformat": 4,
  "nbformat_minor": 0,
  "metadata": {
    "colab": {
      "provenance": []
    },
    "kernelspec": {
      "name": "python3",
      "display_name": "Python 3"
    },
    "language_info": {
      "name": "python"
    }
  },
  "cells": [
    {
      "cell_type": "markdown",
      "source": [
        "# **Read the CSV File with PySpark**"
      ],
      "metadata": {
        "id": "B_CcgXWN-c1u"
      }
    },
    {
      "cell_type": "code",
      "execution_count": null,
      "metadata": {
        "id": "4Ym1oSRrzuTP",
        "colab": {
          "base_uri": "https://localhost:8080/"
        },
        "outputId": "7f558f63-9932-4b54-c040-ffc2467ff607"
      },
      "outputs": [
        {
          "output_type": "stream",
          "name": "stdout",
          "text": [
            "\r0% [Working]\r            \rGet:1 https://cloud.r-project.org/bin/linux/ubuntu jammy-cran40/ InRelease [3,632 B]\n",
            "Get:2 https://developer.download.nvidia.com/compute/cuda/repos/ubuntu2204/x86_64  InRelease [1,581 B]\n",
            "Get:3 https://developer.download.nvidia.com/compute/cuda/repos/ubuntu2204/x86_64  Packages [1,918 kB]\n",
            "Hit:4 http://archive.ubuntu.com/ubuntu jammy InRelease\n",
            "Get:5 http://archive.ubuntu.com/ubuntu jammy-updates InRelease [128 kB]\n",
            "Get:6 https://r2u.stat.illinois.edu/ubuntu jammy InRelease [6,555 B]\n",
            "Hit:7 https://ppa.launchpadcontent.net/deadsnakes/ppa/ubuntu jammy InRelease\n",
            "Hit:8 https://ppa.launchpadcontent.net/graphics-drivers/ppa/ubuntu jammy InRelease\n",
            "Get:9 https://r2u.stat.illinois.edu/ubuntu jammy/main all Packages [9,161 kB]\n",
            "Hit:10 https://ppa.launchpadcontent.net/ubuntugis/ppa/ubuntu jammy InRelease\n",
            "Get:11 http://archive.ubuntu.com/ubuntu jammy-backports InRelease [127 kB]\n",
            "Get:12 http://archive.ubuntu.com/ubuntu jammy-updates/main amd64 Packages [3,518 kB]\n",
            "Get:13 http://archive.ubuntu.com/ubuntu jammy-updates/universe amd64 Packages [1,575 kB]\n",
            "Get:14 http://archive.ubuntu.com/ubuntu jammy-updates/restricted amd64 Packages [5,290 kB]\n",
            "Get:15 https://r2u.stat.illinois.edu/ubuntu jammy/main amd64 Packages [2,773 kB]\n",
            "Get:16 http://security.ubuntu.com/ubuntu jammy-security InRelease [129 kB]\n",
            "Get:17 http://security.ubuntu.com/ubuntu jammy-security/universe amd64 Packages [1,270 kB]\n",
            "Get:18 http://security.ubuntu.com/ubuntu jammy-security/main amd64 Packages [3,207 kB]\n",
            "Get:19 http://security.ubuntu.com/ubuntu jammy-security/restricted amd64 Packages [5,103 kB]\n",
            "Fetched 34.2 MB in 8s (4,106 kB/s)\n",
            "Reading package lists... Done\n",
            "W: Skipping acquire of configured file 'main/source/Sources' as repository 'https://r2u.stat.illinois.edu/ubuntu jammy InRelease' does not seem to provide it (sources.list entry misspelt?)\n"
          ]
        }
      ],
      "source": [
        "!apt-get update\n",
        "!apt-get install openjdk-11-jdk-headless -qq > /dev/null"
      ]
    },
    {
      "cell_type": "code",
      "source": [
        "import os\n",
        "os.environ[\"JAVA_HOME\"] = \"/usr/lib/jvm/java-8-openjdk-amd64\""
      ],
      "metadata": {
        "id": "q9CW5Rcd9G_b"
      },
      "execution_count": null,
      "outputs": []
    },
    {
      "cell_type": "code",
      "source": [
        "import os\n",
        "os.environ[\"JAVA_HOME\"] = \"/usr/lib/jvm/java-11-openjdk-amd64\""
      ],
      "metadata": {
        "id": "3lB9NYtrfZIW"
      },
      "execution_count": null,
      "outputs": []
    },
    {
      "cell_type": "code",
      "source": [
        "!pip install pyspark\n",
        "!pip install py4j"
      ],
      "metadata": {
        "colab": {
          "base_uri": "https://localhost:8080/"
        },
        "id": "KdJx7B6-9N1a",
        "outputId": "a544ed75-bbe5-4520-d7a0-16035fc76757"
      },
      "execution_count": null,
      "outputs": [
        {
          "output_type": "stream",
          "name": "stdout",
          "text": [
            "Requirement already satisfied: pyspark in /usr/local/lib/python3.11/dist-packages (3.5.1)\n",
            "Requirement already satisfied: py4j==0.10.9.7 in /usr/local/lib/python3.11/dist-packages (from pyspark) (0.10.9.7)\n",
            "Requirement already satisfied: py4j in /usr/local/lib/python3.11/dist-packages (0.10.9.7)\n"
          ]
        }
      ]
    },
    {
      "cell_type": "code",
      "source": [
        "!unzip /content/drive/MyDrive/MachineLearning/Loan_default.csv.zip"
      ],
      "metadata": {
        "colab": {
          "base_uri": "https://localhost:8080/"
        },
        "id": "XzN29xOD-Pi9",
        "outputId": "0a7f9597-f344-4d54-c686-de4e31d06a51"
      },
      "execution_count": null,
      "outputs": [
        {
          "output_type": "stream",
          "name": "stdout",
          "text": [
            "Archive:  /content/drive/MyDrive/MachineLearning/Loan_default.csv.zip\n",
            "  inflating: Loan_default.csv        \n"
          ]
        }
      ]
    },
    {
      "cell_type": "code",
      "source": [
        "from pyspark.sql import SparkSession\n",
        "\n",
        "# Initialize Spark session (if not already done)\n",
        "spark = SparkSession.builder \\\n",
        "    .appName(\"LoanDefaultAnalysis\") \\\n",
        "    .getOrCreate()\n",
        "\n",
        "# Read the CSV file\n",
        "df = spark.read.csv(r\"/content/Loan_default.csv\", header=True, inferSchema=True)\n",
        "\n",
        "# Show the schema and first few rows\n",
        "df.printSchema()\n",
        "df.show(5)"
      ],
      "metadata": {
        "colab": {
          "base_uri": "https://localhost:8080/"
        },
        "id": "fjQc-5aK9P18",
        "outputId": "ec88b342-a053-44f8-ab1b-235c7fa743d0"
      },
      "execution_count": null,
      "outputs": [
        {
          "output_type": "stream",
          "name": "stdout",
          "text": [
            "root\n",
            " |-- LoanID: string (nullable = true)\n",
            " |-- Age: integer (nullable = true)\n",
            " |-- Income: integer (nullable = true)\n",
            " |-- LoanAmount: integer (nullable = true)\n",
            " |-- CreditScore: integer (nullable = true)\n",
            " |-- MonthsEmployed: integer (nullable = true)\n",
            " |-- NumCreditLines: integer (nullable = true)\n",
            " |-- InterestRate: double (nullable = true)\n",
            " |-- LoanTerm: integer (nullable = true)\n",
            " |-- DTIRatio: double (nullable = true)\n",
            " |-- Education: string (nullable = true)\n",
            " |-- EmploymentType: string (nullable = true)\n",
            " |-- MaritalStatus: string (nullable = true)\n",
            " |-- HasMortgage: string (nullable = true)\n",
            " |-- HasDependents: string (nullable = true)\n",
            " |-- LoanPurpose: string (nullable = true)\n",
            " |-- HasCoSigner: string (nullable = true)\n",
            " |-- Default: integer (nullable = true)\n",
            "\n",
            "+----------+---+------+----------+-----------+--------------+--------------+------------+--------+--------+-----------+--------------+-------------+-----------+-------------+-----------+-----------+-------+\n",
            "|    LoanID|Age|Income|LoanAmount|CreditScore|MonthsEmployed|NumCreditLines|InterestRate|LoanTerm|DTIRatio|  Education|EmploymentType|MaritalStatus|HasMortgage|HasDependents|LoanPurpose|HasCoSigner|Default|\n",
            "+----------+---+------+----------+-----------+--------------+--------------+------------+--------+--------+-----------+--------------+-------------+-----------+-------------+-----------+-----------+-------+\n",
            "|I38PQUQS96| 56| 85994|     50587|        520|            80|             4|       15.23|      36|    0.44| Bachelor's|     Full-time|     Divorced|        Yes|          Yes|      Other|        Yes|      0|\n",
            "|HPSK72WA7R| 69| 50432|    124440|        458|            15|             1|        4.81|      60|    0.68|   Master's|     Full-time|      Married|         No|           No|      Other|        Yes|      0|\n",
            "|C1OZ6DPJ8Y| 46| 84208|    129188|        451|            26|             3|       21.17|      24|    0.31|   Master's|    Unemployed|     Divorced|        Yes|          Yes|       Auto|         No|      1|\n",
            "|V2KKSFM3UN| 32| 31713|     44799|        743|             0|             3|        7.07|      24|    0.23|High School|     Full-time|      Married|         No|           No|   Business|         No|      0|\n",
            "|EY08JDHTZP| 60| 20437|      9139|        633|             8|             4|        6.51|      48|    0.73| Bachelor's|    Unemployed|     Divorced|         No|          Yes|       Auto|         No|      0|\n",
            "+----------+---+------+----------+-----------+--------------+--------------+------------+--------+--------+-----------+--------------+-------------+-----------+-------------+-----------+-----------+-------+\n",
            "only showing top 5 rows\n",
            "\n"
          ]
        }
      ]
    },
    {
      "cell_type": "code",
      "source": [
        "from google.colab import drive\n",
        "drive.mount('/content/drive')"
      ],
      "metadata": {
        "colab": {
          "base_uri": "https://localhost:8080/"
        },
        "id": "ldsIX9YXriiL",
        "outputId": "c8afe4a4-c7e0-4d85-dad8-c528f4a5c7ec"
      },
      "execution_count": null,
      "outputs": [
        {
          "output_type": "stream",
          "name": "stdout",
          "text": [
            "Mounted at /content/drive\n"
          ]
        }
      ]
    },
    {
      "cell_type": "markdown",
      "source": [
        "# **Data Cleaning**"
      ],
      "metadata": {
        "id": "vcVggZI__GvG"
      }
    },
    {
      "cell_type": "code",
      "source": [],
      "metadata": {
        "id": "395ZrMAx67rP"
      },
      "execution_count": null,
      "outputs": []
    },
    {
      "cell_type": "code",
      "source": [
        "df = df.drop(\"LoanID\")\n",
        "df.show(5)"
      ],
      "metadata": {
        "colab": {
          "base_uri": "https://localhost:8080/"
        },
        "id": "xminFzAS9_Lj",
        "outputId": "675ee08a-4177-4fd3-da2d-2f90c8df7666"
      },
      "execution_count": null,
      "outputs": [
        {
          "output_type": "stream",
          "name": "stdout",
          "text": [
            "+---+------+----------+-----------+--------------+--------------+------------+--------+--------+-----------+--------------+-------------+-----------+-------------+-----------+-----------+-------+\n",
            "|Age|Income|LoanAmount|CreditScore|MonthsEmployed|NumCreditLines|InterestRate|LoanTerm|DTIRatio|  Education|EmploymentType|MaritalStatus|HasMortgage|HasDependents|LoanPurpose|HasCoSigner|Default|\n",
            "+---+------+----------+-----------+--------------+--------------+------------+--------+--------+-----------+--------------+-------------+-----------+-------------+-----------+-----------+-------+\n",
            "| 56| 85994|     50587|        520|            80|             4|       15.23|      36|    0.44| Bachelor's|     Full-time|     Divorced|        Yes|          Yes|      Other|        Yes|      0|\n",
            "| 69| 50432|    124440|        458|            15|             1|        4.81|      60|    0.68|   Master's|     Full-time|      Married|         No|           No|      Other|        Yes|      0|\n",
            "| 46| 84208|    129188|        451|            26|             3|       21.17|      24|    0.31|   Master's|    Unemployed|     Divorced|        Yes|          Yes|       Auto|         No|      1|\n",
            "| 32| 31713|     44799|        743|             0|             3|        7.07|      24|    0.23|High School|     Full-time|      Married|         No|           No|   Business|         No|      0|\n",
            "| 60| 20437|      9139|        633|             8|             4|        6.51|      48|    0.73| Bachelor's|    Unemployed|     Divorced|         No|          Yes|       Auto|         No|      0|\n",
            "+---+------+----------+-----------+--------------+--------------+------------+--------+--------+-----------+--------------+-------------+-----------+-------------+-----------+-----------+-------+\n",
            "only showing top 5 rows\n",
            "\n"
          ]
        }
      ]
    },
    {
      "cell_type": "code",
      "source": [
        "from pyspark.sql.functions import round,col\n",
        "\n",
        "# Create Debt-to-Income feature\n",
        "df = df.withColumn(\"DebtAmount\", round(col(\"Income\") * col(\"DTIRatio\"), 2))"
      ],
      "metadata": {
        "id": "Xjbkm4t1Vnfk"
      },
      "execution_count": null,
      "outputs": []
    },
    {
      "cell_type": "markdown",
      "source": [
        "### Checking Missing Value"
      ],
      "metadata": {
        "id": "2szVazVcC5Ym"
      }
    },
    {
      "cell_type": "code",
      "source": [
        "from pyspark.sql.functions import col, sum as spark_sum\n",
        "\n",
        "# Count null values in each column\n",
        "null_counts = df.select([spark_sum(col(c).isNull().cast(\"int\")).alias(c) for c in df.columns])\n",
        "null_counts.show()"
      ],
      "metadata": {
        "colab": {
          "base_uri": "https://localhost:8080/"
        },
        "id": "FCjlv2te_6D_",
        "outputId": "367bb437-b5f3-4b04-86c5-15d5c6fba91b"
      },
      "execution_count": null,
      "outputs": [
        {
          "output_type": "stream",
          "name": "stdout",
          "text": [
            "+---+------+----------+-----------+--------------+--------------+------------+--------+--------+---------+--------------+-------------+-----------+-------------+-----------+-----------+-------+----------+\n",
            "|Age|Income|LoanAmount|CreditScore|MonthsEmployed|NumCreditLines|InterestRate|LoanTerm|DTIRatio|Education|EmploymentType|MaritalStatus|HasMortgage|HasDependents|LoanPurpose|HasCoSigner|Default|DebtAmount|\n",
            "+---+------+----------+-----------+--------------+--------------+------------+--------+--------+---------+--------------+-------------+-----------+-------------+-----------+-----------+-------+----------+\n",
            "|  0|     0|         0|          0|             0|             0|           0|       0|       0|        0|             0|            0|          0|            0|          0|          0|      0|         0|\n",
            "+---+------+----------+-----------+--------------+--------------+------------+--------+--------+---------+--------------+-------------+-----------+-------------+-----------+-----------+-------+----------+\n",
            "\n"
          ]
        }
      ]
    },
    {
      "cell_type": "markdown",
      "source": [
        "### Checking for Duplicate Rows"
      ],
      "metadata": {
        "id": "exkdWVjoC-09"
      }
    },
    {
      "cell_type": "code",
      "source": [
        "total_rows = df.count()\n",
        "distinct_rows = df.distinct().count()\n",
        "\n",
        "print(f\"Total rows: {total_rows}\")\n",
        "print(f\"Distinct rows: {distinct_rows}\")\n",
        "print(f\"Duplicate rows: {total_rows - distinct_rows}\")"
      ],
      "metadata": {
        "colab": {
          "base_uri": "https://localhost:8080/"
        },
        "id": "y1WiQZJ9C0Ws",
        "outputId": "aa86a297-483e-4bcd-8aa4-df09a5026aad"
      },
      "execution_count": null,
      "outputs": [
        {
          "output_type": "stream",
          "name": "stdout",
          "text": [
            "Total rows: 255347\n",
            "Distinct rows: 255347\n",
            "Duplicate rows: 0\n"
          ]
        }
      ]
    },
    {
      "cell_type": "markdown",
      "source": [
        "### converting binary categorical columns (with \"Yes\"/\"No\" values) into numerical columns (1/0 integers)."
      ],
      "metadata": {
        "id": "1DhBn6t4XaYu"
      }
    },
    {
      "cell_type": "code",
      "source": [
        "from pyspark.sql.functions import when,col\n",
        "\n",
        "binary_cols = [\"HasMortgage\", \"HasDependents\", \"HasCoSigner\"]\n",
        "for col in binary_cols:\n",
        "    df = df.withColumn(col,\n",
        "                      when(df[col] == \"Yes\", 1)\n",
        "                      .otherwise(0)\n",
        "                      .cast(\"integer\"))"
      ],
      "metadata": {
        "id": "dpj5ftoIDhZa"
      },
      "execution_count": null,
      "outputs": []
    },
    {
      "cell_type": "code",
      "source": [
        "df.printSchema()"
      ],
      "metadata": {
        "colab": {
          "base_uri": "https://localhost:8080/"
        },
        "id": "9NmHhk2CTieP",
        "outputId": "39564185-3bf9-432f-98d1-5d6800788861"
      },
      "execution_count": null,
      "outputs": [
        {
          "output_type": "stream",
          "name": "stdout",
          "text": [
            "root\n",
            " |-- Age: integer (nullable = true)\n",
            " |-- Income: integer (nullable = true)\n",
            " |-- LoanAmount: integer (nullable = true)\n",
            " |-- CreditScore: integer (nullable = true)\n",
            " |-- MonthsEmployed: integer (nullable = true)\n",
            " |-- NumCreditLines: integer (nullable = true)\n",
            " |-- InterestRate: double (nullable = true)\n",
            " |-- LoanTerm: integer (nullable = true)\n",
            " |-- DTIRatio: double (nullable = true)\n",
            " |-- Education: string (nullable = true)\n",
            " |-- EmploymentType: string (nullable = true)\n",
            " |-- MaritalStatus: string (nullable = true)\n",
            " |-- HasMortgage: integer (nullable = false)\n",
            " |-- HasDependents: integer (nullable = false)\n",
            " |-- LoanPurpose: string (nullable = true)\n",
            " |-- HasCoSigner: integer (nullable = false)\n",
            " |-- Default: integer (nullable = true)\n",
            " |-- DebtAmount: double (nullable = true)\n",
            "\n"
          ]
        }
      ]
    },
    {
      "cell_type": "code",
      "source": [
        "df.select([\"LoanPurpose\"]).distinct().show()"
      ],
      "metadata": {
        "colab": {
          "base_uri": "https://localhost:8080/"
        },
        "id": "nLcgbcPLMud-",
        "outputId": "403757d1-613d-469e-dca0-0bb4ce2116f3"
      },
      "execution_count": null,
      "outputs": [
        {
          "output_type": "stream",
          "name": "stdout",
          "text": [
            "+-----------+\n",
            "|LoanPurpose|\n",
            "+-----------+\n",
            "|  Education|\n",
            "|       Home|\n",
            "|      Other|\n",
            "|       Auto|\n",
            "|   Business|\n",
            "+-----------+\n",
            "\n"
          ]
        }
      ]
    },
    {
      "cell_type": "code",
      "source": [],
      "metadata": {
        "id": "HPm7aVhCVA1U"
      },
      "execution_count": null,
      "outputs": []
    },
    {
      "cell_type": "code",
      "source": [
        "from pyspark.sql.functions import col, when\n",
        "\n",
        "loan_purposes = [row.LoanPurpose for row in df.select(\"LoanPurpose\").distinct().collect()]\n",
        "\n",
        "for purpose in loan_purposes:\n",
        "    df = df.withColumn(f\"LoanPurpose_{purpose}\", when(col(\"LoanPurpose\") == purpose, 1).otherwise(0))\n",
        "\n",
        "df.show(5)"
      ],
      "metadata": {
        "colab": {
          "base_uri": "https://localhost:8080/"
        },
        "id": "AjnQDibpRSNu",
        "outputId": "67876bb9-f88a-45a3-b2d1-e715f3604855"
      },
      "execution_count": null,
      "outputs": [
        {
          "output_type": "stream",
          "name": "stdout",
          "text": [
            "+---+------+----------+-----------+--------------+--------------+------------+--------+--------+-----------+--------------+-------------+-----------+-------------+-----------+-----------+-------+----------+---------------------+----------------+-----------------+----------------+--------------------+\n",
            "|Age|Income|LoanAmount|CreditScore|MonthsEmployed|NumCreditLines|InterestRate|LoanTerm|DTIRatio|  Education|EmploymentType|MaritalStatus|HasMortgage|HasDependents|LoanPurpose|HasCoSigner|Default|DebtAmount|LoanPurpose_Education|LoanPurpose_Home|LoanPurpose_Other|LoanPurpose_Auto|LoanPurpose_Business|\n",
            "+---+------+----------+-----------+--------------+--------------+------------+--------+--------+-----------+--------------+-------------+-----------+-------------+-----------+-----------+-------+----------+---------------------+----------------+-----------------+----------------+--------------------+\n",
            "| 56| 85994|     50587|        520|            80|             4|       15.23|      36|    0.44| Bachelor's|     Full-time|     Divorced|          1|            1|      Other|          1|      0|  37837.36|                    0|               0|                1|               0|                   0|\n",
            "| 69| 50432|    124440|        458|            15|             1|        4.81|      60|    0.68|   Master's|     Full-time|      Married|          0|            0|      Other|          1|      0|  34293.76|                    0|               0|                1|               0|                   0|\n",
            "| 46| 84208|    129188|        451|            26|             3|       21.17|      24|    0.31|   Master's|    Unemployed|     Divorced|          1|            1|       Auto|          0|      1|  26104.48|                    0|               0|                0|               1|                   0|\n",
            "| 32| 31713|     44799|        743|             0|             3|        7.07|      24|    0.23|High School|     Full-time|      Married|          0|            0|   Business|          0|      0|   7293.99|                    0|               0|                0|               0|                   1|\n",
            "| 60| 20437|      9139|        633|             8|             4|        6.51|      48|    0.73| Bachelor's|    Unemployed|     Divorced|          0|            1|       Auto|          0|      0|  14919.01|                    0|               0|                0|               1|                   0|\n",
            "+---+------+----------+-----------+--------------+--------------+------------+--------+--------+-----------+--------------+-------------+-----------+-------------+-----------+-----------+-------+----------+---------------------+----------------+-----------------+----------------+--------------------+\n",
            "only showing top 5 rows\n",
            "\n"
          ]
        }
      ]
    },
    {
      "cell_type": "code",
      "source": [
        "df.select([\"MaritalStatus\"]).distinct().show()"
      ],
      "metadata": {
        "colab": {
          "base_uri": "https://localhost:8080/"
        },
        "id": "Ch7EYCfQSSNs",
        "outputId": "c2fbda00-bc80-4bf7-8fe5-235a0eb44dce"
      },
      "execution_count": null,
      "outputs": [
        {
          "output_type": "stream",
          "name": "stdout",
          "text": [
            "+-------------+\n",
            "|MaritalStatus|\n",
            "+-------------+\n",
            "|      Married|\n",
            "|     Divorced|\n",
            "|       Single|\n",
            "+-------------+\n",
            "\n"
          ]
        }
      ]
    },
    {
      "cell_type": "code",
      "source": [
        "df = df.withColumn(\"MaritalStatus_Married\",when(col(\"MaritalStatus\") == \"Married\", 1).otherwise(0))\n",
        "df = df.withColumn(\"MaritalStatus_Single\",when(col(\"MaritalStatus\") == \"Single\", 1).otherwise(0))\n",
        "df = df.withColumn(\"MaritalStatus_Divorced\",when(col(\"MaritalStatus\") == \"Divorced\", 1).otherwise(0))"
      ],
      "metadata": {
        "id": "5JhiLOmsSY6-"
      },
      "execution_count": null,
      "outputs": []
    },
    {
      "cell_type": "code",
      "source": [
        "df.printSchema()"
      ],
      "metadata": {
        "colab": {
          "base_uri": "https://localhost:8080/"
        },
        "id": "TF39CfnxR8L_",
        "outputId": "bd6bce0c-f6e9-48cb-bf24-55566fde560c"
      },
      "execution_count": null,
      "outputs": [
        {
          "output_type": "stream",
          "name": "stdout",
          "text": [
            "root\n",
            " |-- Age: integer (nullable = true)\n",
            " |-- Income: integer (nullable = true)\n",
            " |-- LoanAmount: integer (nullable = true)\n",
            " |-- CreditScore: integer (nullable = true)\n",
            " |-- MonthsEmployed: integer (nullable = true)\n",
            " |-- NumCreditLines: integer (nullable = true)\n",
            " |-- InterestRate: double (nullable = true)\n",
            " |-- LoanTerm: integer (nullable = true)\n",
            " |-- DTIRatio: double (nullable = true)\n",
            " |-- Education: string (nullable = true)\n",
            " |-- EmploymentType: string (nullable = true)\n",
            " |-- MaritalStatus: string (nullable = true)\n",
            " |-- HasMortgage: integer (nullable = false)\n",
            " |-- HasDependents: integer (nullable = false)\n",
            " |-- LoanPurpose: string (nullable = true)\n",
            " |-- HasCoSigner: integer (nullable = false)\n",
            " |-- Default: integer (nullable = true)\n",
            " |-- DebtAmount: double (nullable = true)\n",
            " |-- LoanPurpose_Education: integer (nullable = false)\n",
            " |-- LoanPurpose_Home: integer (nullable = false)\n",
            " |-- LoanPurpose_Other: integer (nullable = false)\n",
            " |-- LoanPurpose_Auto: integer (nullable = false)\n",
            " |-- LoanPurpose_Business: integer (nullable = false)\n",
            " |-- MaritalStatus_Married: integer (nullable = false)\n",
            " |-- MaritalStatus_Single: integer (nullable = false)\n",
            " |-- MaritalStatus_Divorced: integer (nullable = false)\n",
            "\n"
          ]
        }
      ]
    },
    {
      "cell_type": "code",
      "source": [],
      "metadata": {
        "id": "9Pqa0CD5VRWN"
      },
      "execution_count": null,
      "outputs": []
    },
    {
      "cell_type": "code",
      "source": [
        "df.select([\"EmploymentType\"]).distinct().show()"
      ],
      "metadata": {
        "colab": {
          "base_uri": "https://localhost:8080/"
        },
        "id": "A77qXgZG6QY_",
        "outputId": "c32a2111-b5ec-4bae-f85a-af3da8b3e8ec"
      },
      "execution_count": null,
      "outputs": [
        {
          "output_type": "stream",
          "name": "stdout",
          "text": [
            "+--------------+\n",
            "|EmploymentType|\n",
            "+--------------+\n",
            "|     Part-time|\n",
            "| Self-employed|\n",
            "|     Full-time|\n",
            "|    Unemployed|\n",
            "+--------------+\n",
            "\n"
          ]
        }
      ]
    },
    {
      "cell_type": "code",
      "source": [
        "from pyspark.sql.functions import when, col\n",
        "\n",
        "df = df.withColumn(\"EmploymentType\",\n",
        "                   when(col(\"EmploymentType\") == \"Unemployed\", 0)\n",
        "                   .when(col(\"EmploymentType\") == \"Part-time\", 1)\n",
        "                   .when(col(\"EmploymentType\") == \"Full-time\", 2)\n",
        "                   .when(col(\"EmploymentType\") == \"Self-employed\", 3)\n",
        "                   .otherwise(None)\n",
        "                   .cast(\"integer\"))"
      ],
      "metadata": {
        "id": "bR4l0mtG5VuJ"
      },
      "execution_count": null,
      "outputs": []
    },
    {
      "cell_type": "code",
      "source": [
        "df.show()"
      ],
      "metadata": {
        "colab": {
          "base_uri": "https://localhost:8080/"
        },
        "id": "xqnW8RSseFFu",
        "outputId": "38afcf91-096d-40c4-bbef-c464693cac27"
      },
      "execution_count": null,
      "outputs": [
        {
          "output_type": "stream",
          "name": "stdout",
          "text": [
            "+---+------+----------+-----------+--------------+--------------+------------+--------+--------+-----------+--------------+-------------+-----------+-------------+-----------+-----------+-------+----------+---------------------+----------------+-----------------+----------------+--------------------+---------------------+--------------------+----------------------+\n",
            "|Age|Income|LoanAmount|CreditScore|MonthsEmployed|NumCreditLines|InterestRate|LoanTerm|DTIRatio|  Education|EmploymentType|MaritalStatus|HasMortgage|HasDependents|LoanPurpose|HasCoSigner|Default|DebtAmount|LoanPurpose_Education|LoanPurpose_Home|LoanPurpose_Other|LoanPurpose_Auto|LoanPurpose_Business|MaritalStatus_Married|MaritalStatus_Single|MaritalStatus_Divorced|\n",
            "+---+------+----------+-----------+--------------+--------------+------------+--------+--------+-----------+--------------+-------------+-----------+-------------+-----------+-----------+-------+----------+---------------------+----------------+-----------------+----------------+--------------------+---------------------+--------------------+----------------------+\n",
            "| 56| 85994|     50587|        520|            80|             4|       15.23|      36|    0.44| Bachelor's|             2|     Divorced|          1|            1|      Other|          1|      0|  37837.36|                    0|               0|                1|               0|                   0|                    0|                   0|                     1|\n",
            "| 69| 50432|    124440|        458|            15|             1|        4.81|      60|    0.68|   Master's|             2|      Married|          0|            0|      Other|          1|      0|  34293.76|                    0|               0|                1|               0|                   0|                    1|                   0|                     0|\n",
            "| 46| 84208|    129188|        451|            26|             3|       21.17|      24|    0.31|   Master's|             0|     Divorced|          1|            1|       Auto|          0|      1|  26104.48|                    0|               0|                0|               1|                   0|                    0|                   0|                     1|\n",
            "| 32| 31713|     44799|        743|             0|             3|        7.07|      24|    0.23|High School|             2|      Married|          0|            0|   Business|          0|      0|   7293.99|                    0|               0|                0|               0|                   1|                    1|                   0|                     0|\n",
            "| 60| 20437|      9139|        633|             8|             4|        6.51|      48|    0.73| Bachelor's|             0|     Divorced|          0|            1|       Auto|          0|      0|  14919.01|                    0|               0|                0|               1|                   0|                    0|                   0|                     1|\n",
            "| 25| 90298|     90448|        720|            18|             2|       22.72|      24|     0.1|High School|             0|       Single|          1|            0|   Business|          1|      1|    9029.8|                    0|               0|                0|               0|                   1|                    0|                   1|                     0|\n",
            "| 38|111188|    177025|        429|            80|             1|       19.11|      12|    0.16| Bachelor's|             0|       Single|          1|            0|       Home|          1|      0|  17790.08|                    0|               1|                0|               0|                   0|                    0|                   1|                     0|\n",
            "| 56|126802|    155511|        531|            67|             4|        8.15|      60|    0.43|        PhD|             2|      Married|          0|            0|       Home|          1|      0|  54524.86|                    0|               1|                0|               0|                   0|                    1|                   0|                     0|\n",
            "| 36| 42053|     92357|        827|            83|             1|       23.94|      48|     0.2| Bachelor's|             3|     Divorced|          1|            0|  Education|          0|      1|    8410.6|                    1|               0|                0|               0|                   0|                    0|                   0|                     1|\n",
            "| 40|132784|    228510|        480|           114|             4|        9.09|      48|    0.33|High School|             3|      Married|          1|            0|      Other|          1|      0|  43818.72|                    0|               0|                1|               0|                   0|                    1|                   0|                     0|\n",
            "| 28|140466|    163781|        652|            94|             2|        9.08|      48|    0.23|High School|             0|      Married|          0|            0|  Education|          0|      0|  32307.18|                    1|               0|                0|               0|                   0|                    1|                   0|                     0|\n",
            "| 28|149227|    139759|        375|            56|             3|        5.84|      36|     0.8|        PhD|             2|     Divorced|          0|            0|  Education|          1|      1|  119381.6|                    1|               0|                0|               0|                   0|                    0|                   0|                     1|\n",
            "| 41| 23265|     63527|        829|            87|             4|        9.73|      60|    0.45|   Master's|             2|     Divorced|          1|            0|       Auto|          1|      0|  10469.25|                    0|               0|                0|               1|                   0|                    0|                   0|                     1|\n",
            "| 53|117550|     95744|        395|           112|             4|        3.58|      24|    0.73|High School|             0|       Single|          0|            0|       Auto|          1|      0|   85811.5|                    0|               0|                0|               1|                   0|                    0|                   1|                     0|\n",
            "| 57|139699|     88143|        635|           112|             4|        5.63|      48|     0.2|   Master's|             1|     Divorced|          0|            0|       Home|          0|      0|   27939.8|                    0|               1|                0|               0|                   0|                    0|                   0|                     1|\n",
            "| 41| 74064|    230883|        432|            31|             2|         5.0|      60|    0.89|   Master's|             0|      Married|          1|            0|       Auto|          0|      0|  65916.96|                    0|               0|                0|               1|                   0|                    1|                   0|                     0|\n",
            "| 20|119704|     25697|        313|            49|             1|        9.63|      24|    0.28|        PhD|             0|       Single|          1|            0|       Home|          0|      0|  33517.12|                    0|               1|                0|               0|                   0|                    0|                   1|                     0|\n",
            "| 39| 33015|     10889|        811|           106|             2|       13.56|      60|    0.66|   Master's|             3|       Single|          1|            0|      Other|          0|      0|   21789.9|                    0|               0|                1|               0|                   0|                    0|                   1|                     0|\n",
            "| 19| 40718|     78515|        319|           119|             2|        14.0|      24|    0.17| Bachelor's|             3|     Divorced|          1|            0|  Education|          0|      1|   6922.06|                    1|               0|                0|               0|                   0|                    0|                   0|                     1|\n",
            "| 41|123419|    161146|        376|            65|             4|       16.96|      60|    0.39|High School|             3|       Single|          1|            0|      Other|          1|      0|  48133.41|                    0|               0|                1|               0|                   0|                    0|                   1|                     0|\n",
            "+---+------+----------+-----------+--------------+--------------+------------+--------+--------+-----------+--------------+-------------+-----------+-------------+-----------+-----------+-------+----------+---------------------+----------------+-----------------+----------------+--------------------+---------------------+--------------------+----------------------+\n",
            "only showing top 20 rows\n",
            "\n"
          ]
        }
      ]
    },
    {
      "cell_type": "code",
      "source": [
        "df = df.drop(\"MaritalStatus\",\"LoanPurpose\")"
      ],
      "metadata": {
        "id": "_Q_JvTrngrIE"
      },
      "execution_count": null,
      "outputs": []
    },
    {
      "cell_type": "code",
      "source": [
        "df.show()"
      ],
      "metadata": {
        "colab": {
          "base_uri": "https://localhost:8080/"
        },
        "id": "tyX77g7SJnMO",
        "outputId": "b60eae19-57fc-4f03-f008-107b229c3715"
      },
      "execution_count": null,
      "outputs": [
        {
          "output_type": "stream",
          "name": "stdout",
          "text": [
            "+---+------+----------+-----------+--------------+--------------+------------+--------+--------+-----------+--------------+-----------+-------------+-----------+-------+----------+---------------------+----------------+-----------------+----------------+--------------------+---------------------+--------------------+----------------------+\n",
            "|Age|Income|LoanAmount|CreditScore|MonthsEmployed|NumCreditLines|InterestRate|LoanTerm|DTIRatio|  Education|EmploymentType|HasMortgage|HasDependents|HasCoSigner|Default|DebtAmount|LoanPurpose_Education|LoanPurpose_Home|LoanPurpose_Other|LoanPurpose_Auto|LoanPurpose_Business|MaritalStatus_Married|MaritalStatus_Single|MaritalStatus_Divorced|\n",
            "+---+------+----------+-----------+--------------+--------------+------------+--------+--------+-----------+--------------+-----------+-------------+-----------+-------+----------+---------------------+----------------+-----------------+----------------+--------------------+---------------------+--------------------+----------------------+\n",
            "| 56| 85994|     50587|        520|            80|             4|       15.23|      36|    0.44| Bachelor's|             2|          1|            1|          1|      0|  37837.36|                    0|               0|                1|               0|                   0|                    0|                   0|                     1|\n",
            "| 69| 50432|    124440|        458|            15|             1|        4.81|      60|    0.68|   Master's|             2|          0|            0|          1|      0|  34293.76|                    0|               0|                1|               0|                   0|                    1|                   0|                     0|\n",
            "| 46| 84208|    129188|        451|            26|             3|       21.17|      24|    0.31|   Master's|             0|          1|            1|          0|      1|  26104.48|                    0|               0|                0|               1|                   0|                    0|                   0|                     1|\n",
            "| 32| 31713|     44799|        743|             0|             3|        7.07|      24|    0.23|High School|             2|          0|            0|          0|      0|   7293.99|                    0|               0|                0|               0|                   1|                    1|                   0|                     0|\n",
            "| 60| 20437|      9139|        633|             8|             4|        6.51|      48|    0.73| Bachelor's|             0|          0|            1|          0|      0|  14919.01|                    0|               0|                0|               1|                   0|                    0|                   0|                     1|\n",
            "| 25| 90298|     90448|        720|            18|             2|       22.72|      24|     0.1|High School|             0|          1|            0|          1|      1|    9029.8|                    0|               0|                0|               0|                   1|                    0|                   1|                     0|\n",
            "| 38|111188|    177025|        429|            80|             1|       19.11|      12|    0.16| Bachelor's|             0|          1|            0|          1|      0|  17790.08|                    0|               1|                0|               0|                   0|                    0|                   1|                     0|\n",
            "| 56|126802|    155511|        531|            67|             4|        8.15|      60|    0.43|        PhD|             2|          0|            0|          1|      0|  54524.86|                    0|               1|                0|               0|                   0|                    1|                   0|                     0|\n",
            "| 36| 42053|     92357|        827|            83|             1|       23.94|      48|     0.2| Bachelor's|             3|          1|            0|          0|      1|    8410.6|                    1|               0|                0|               0|                   0|                    0|                   0|                     1|\n",
            "| 40|132784|    228510|        480|           114|             4|        9.09|      48|    0.33|High School|             3|          1|            0|          1|      0|  43818.72|                    0|               0|                1|               0|                   0|                    1|                   0|                     0|\n",
            "| 28|140466|    163781|        652|            94|             2|        9.08|      48|    0.23|High School|             0|          0|            0|          0|      0|  32307.18|                    1|               0|                0|               0|                   0|                    1|                   0|                     0|\n",
            "| 28|149227|    139759|        375|            56|             3|        5.84|      36|     0.8|        PhD|             2|          0|            0|          1|      1|  119381.6|                    1|               0|                0|               0|                   0|                    0|                   0|                     1|\n",
            "| 41| 23265|     63527|        829|            87|             4|        9.73|      60|    0.45|   Master's|             2|          1|            0|          1|      0|  10469.25|                    0|               0|                0|               1|                   0|                    0|                   0|                     1|\n",
            "| 53|117550|     95744|        395|           112|             4|        3.58|      24|    0.73|High School|             0|          0|            0|          1|      0|   85811.5|                    0|               0|                0|               1|                   0|                    0|                   1|                     0|\n",
            "| 57|139699|     88143|        635|           112|             4|        5.63|      48|     0.2|   Master's|             1|          0|            0|          0|      0|   27939.8|                    0|               1|                0|               0|                   0|                    0|                   0|                     1|\n",
            "| 41| 74064|    230883|        432|            31|             2|         5.0|      60|    0.89|   Master's|             0|          1|            0|          0|      0|  65916.96|                    0|               0|                0|               1|                   0|                    1|                   0|                     0|\n",
            "| 20|119704|     25697|        313|            49|             1|        9.63|      24|    0.28|        PhD|             0|          1|            0|          0|      0|  33517.12|                    0|               1|                0|               0|                   0|                    0|                   1|                     0|\n",
            "| 39| 33015|     10889|        811|           106|             2|       13.56|      60|    0.66|   Master's|             3|          1|            0|          0|      0|   21789.9|                    0|               0|                1|               0|                   0|                    0|                   1|                     0|\n",
            "| 19| 40718|     78515|        319|           119|             2|        14.0|      24|    0.17| Bachelor's|             3|          1|            0|          0|      1|   6922.06|                    1|               0|                0|               0|                   0|                    0|                   0|                     1|\n",
            "| 41|123419|    161146|        376|            65|             4|       16.96|      60|    0.39|High School|             3|          1|            0|          1|      0|  48133.41|                    0|               0|                1|               0|                   0|                    0|                   1|                     0|\n",
            "+---+------+----------+-----------+--------------+--------------+------------+--------+--------+-----------+--------------+-----------+-------------+-----------+-------+----------+---------------------+----------------+-----------------+----------------+--------------------+---------------------+--------------------+----------------------+\n",
            "only showing top 20 rows\n",
            "\n"
          ]
        }
      ]
    },
    {
      "cell_type": "code",
      "source": [
        "df.select([\"Education\"]).distinct().show()"
      ],
      "metadata": {
        "colab": {
          "base_uri": "https://localhost:8080/"
        },
        "id": "dk0w4IkCg7cB",
        "outputId": "3c833d93-912e-489a-95b8-5ee473443b8d"
      },
      "execution_count": null,
      "outputs": [
        {
          "output_type": "stream",
          "name": "stdout",
          "text": [
            "+-----------+\n",
            "|  Education|\n",
            "+-----------+\n",
            "|High School|\n",
            "|        PhD|\n",
            "| Bachelor's|\n",
            "|   Master's|\n",
            "+-----------+\n",
            "\n"
          ]
        }
      ]
    },
    {
      "cell_type": "code",
      "source": [
        "df = df.withColumn(\"Education_HighSchool\",when(col(\"Education\") == \"High School\", 1).otherwise(0))\n",
        "df = df.withColumn(\"Education_Bachelor\",when(col(\"Education\") == \"Bachelor's\", 1).otherwise(0))\n",
        "df = df.withColumn(\"Education_Master\",when(col(\"Education\") == \"Master's\", 1).otherwise(0))\n",
        "df = df.withColumn(\"Education_PhD\",when(col(\"Education\") == \"PhD\", 1).otherwise(0))"
      ],
      "metadata": {
        "id": "F-l-JCulhBIs"
      },
      "execution_count": null,
      "outputs": []
    },
    {
      "cell_type": "code",
      "source": [
        "df.show(5)"
      ],
      "metadata": {
        "colab": {
          "base_uri": "https://localhost:8080/"
        },
        "id": "HJhtG6HHNT-Q",
        "outputId": "7b55e35b-b18b-4990-ba56-39f8c42251d5"
      },
      "execution_count": null,
      "outputs": [
        {
          "output_type": "stream",
          "name": "stdout",
          "text": [
            "+---+------+----------+-----------+--------------+--------------+------------+--------+--------+-----------+--------------+-----------+-------------+-----------+-------+----------+---------------------+----------------+-----------------+----------------+--------------------+---------------------+--------------------+----------------------+--------------------+------------------+----------------+-------------+\n",
            "|Age|Income|LoanAmount|CreditScore|MonthsEmployed|NumCreditLines|InterestRate|LoanTerm|DTIRatio|  Education|EmploymentType|HasMortgage|HasDependents|HasCoSigner|Default|DebtAmount|LoanPurpose_Education|LoanPurpose_Home|LoanPurpose_Other|LoanPurpose_Auto|LoanPurpose_Business|MaritalStatus_Married|MaritalStatus_Single|MaritalStatus_Divorced|Education_HighSchool|Education_Bachelor|Education_Master|Education_PhD|\n",
            "+---+------+----------+-----------+--------------+--------------+------------+--------+--------+-----------+--------------+-----------+-------------+-----------+-------+----------+---------------------+----------------+-----------------+----------------+--------------------+---------------------+--------------------+----------------------+--------------------+------------------+----------------+-------------+\n",
            "| 56| 85994|     50587|        520|            80|             4|       15.23|      36|    0.44| Bachelor's|             2|          1|            1|          1|      0|  37837.36|                    0|               0|                1|               0|                   0|                    0|                   0|                     1|                   0|                 1|               0|            0|\n",
            "| 69| 50432|    124440|        458|            15|             1|        4.81|      60|    0.68|   Master's|             2|          0|            0|          1|      0|  34293.76|                    0|               0|                1|               0|                   0|                    1|                   0|                     0|                   0|                 0|               1|            0|\n",
            "| 46| 84208|    129188|        451|            26|             3|       21.17|      24|    0.31|   Master's|             0|          1|            1|          0|      1|  26104.48|                    0|               0|                0|               1|                   0|                    0|                   0|                     1|                   0|                 0|               1|            0|\n",
            "| 32| 31713|     44799|        743|             0|             3|        7.07|      24|    0.23|High School|             2|          0|            0|          0|      0|   7293.99|                    0|               0|                0|               0|                   1|                    1|                   0|                     0|                   1|                 0|               0|            0|\n",
            "| 60| 20437|      9139|        633|             8|             4|        6.51|      48|    0.73| Bachelor's|             0|          0|            1|          0|      0|  14919.01|                    0|               0|                0|               1|                   0|                    0|                   0|                     1|                   0|                 1|               0|            0|\n",
            "+---+------+----------+-----------+--------------+--------------+------------+--------+--------+-----------+--------------+-----------+-------------+-----------+-------+----------+---------------------+----------------+-----------------+----------------+--------------------+---------------------+--------------------+----------------------+--------------------+------------------+----------------+-------------+\n",
            "only showing top 5 rows\n",
            "\n"
          ]
        }
      ]
    },
    {
      "cell_type": "code",
      "source": [
        "df = df.drop(\"Education\")"
      ],
      "metadata": {
        "id": "nDfcalpiQH6o"
      },
      "execution_count": null,
      "outputs": []
    },
    {
      "cell_type": "code",
      "source": [
        "df.show(5)"
      ],
      "metadata": {
        "colab": {
          "base_uri": "https://localhost:8080/"
        },
        "id": "2se-IFk1dpIs",
        "outputId": "b010e075-ccd8-4d69-df9a-f852ff67f32d"
      },
      "execution_count": null,
      "outputs": [
        {
          "output_type": "stream",
          "name": "stdout",
          "text": [
            "+---+------+----------+-----------+--------------+--------------+------------+--------+--------+--------------+-----------+-------------+-----------+-------+----------+---------------------+----------------+-----------------+----------------+--------------------+---------------------+--------------------+----------------------+--------------------+------------------+----------------+-------------+\n",
            "|Age|Income|LoanAmount|CreditScore|MonthsEmployed|NumCreditLines|InterestRate|LoanTerm|DTIRatio|EmploymentType|HasMortgage|HasDependents|HasCoSigner|Default|DebtAmount|LoanPurpose_Education|LoanPurpose_Home|LoanPurpose_Other|LoanPurpose_Auto|LoanPurpose_Business|MaritalStatus_Married|MaritalStatus_Single|MaritalStatus_Divorced|Education_HighSchool|Education_Bachelor|Education_Master|Education_PhD|\n",
            "+---+------+----------+-----------+--------------+--------------+------------+--------+--------+--------------+-----------+-------------+-----------+-------+----------+---------------------+----------------+-----------------+----------------+--------------------+---------------------+--------------------+----------------------+--------------------+------------------+----------------+-------------+\n",
            "| 56| 85994|     50587|        520|            80|             4|       15.23|      36|    0.44|             2|          1|            1|          1|      0|  37837.36|                    0|               0|                1|               0|                   0|                    0|                   0|                     1|                   0|                 1|               0|            0|\n",
            "| 69| 50432|    124440|        458|            15|             1|        4.81|      60|    0.68|             2|          0|            0|          1|      0|  34293.76|                    0|               0|                1|               0|                   0|                    1|                   0|                     0|                   0|                 0|               1|            0|\n",
            "| 46| 84208|    129188|        451|            26|             3|       21.17|      24|    0.31|             0|          1|            1|          0|      1|  26104.48|                    0|               0|                0|               1|                   0|                    0|                   0|                     1|                   0|                 0|               1|            0|\n",
            "| 32| 31713|     44799|        743|             0|             3|        7.07|      24|    0.23|             2|          0|            0|          0|      0|   7293.99|                    0|               0|                0|               0|                   1|                    1|                   0|                     0|                   1|                 0|               0|            0|\n",
            "| 60| 20437|      9139|        633|             8|             4|        6.51|      48|    0.73|             0|          0|            1|          0|      0|  14919.01|                    0|               0|                0|               1|                   0|                    0|                   0|                     1|                   0|                 1|               0|            0|\n",
            "+---+------+----------+-----------+--------------+--------------+------------+--------+--------+--------------+-----------+-------------+-----------+-------+----------+---------------------+----------------+-----------------+----------------+--------------------+---------------------+--------------------+----------------------+--------------------+------------------+----------------+-------------+\n",
            "only showing top 5 rows\n",
            "\n"
          ]
        }
      ]
    },
    {
      "cell_type": "code",
      "source": [
        "df.printSchema()"
      ],
      "metadata": {
        "colab": {
          "base_uri": "https://localhost:8080/"
        },
        "id": "sYfq_osvhmWk",
        "outputId": "2754144d-74e7-49df-f55a-beee6f68e3eb"
      },
      "execution_count": null,
      "outputs": [
        {
          "output_type": "stream",
          "name": "stdout",
          "text": [
            "root\n",
            " |-- Age: integer (nullable = true)\n",
            " |-- Income: integer (nullable = true)\n",
            " |-- LoanAmount: integer (nullable = true)\n",
            " |-- CreditScore: integer (nullable = true)\n",
            " |-- MonthsEmployed: integer (nullable = true)\n",
            " |-- NumCreditLines: integer (nullable = true)\n",
            " |-- InterestRate: double (nullable = true)\n",
            " |-- LoanTerm: integer (nullable = true)\n",
            " |-- DTIRatio: double (nullable = true)\n",
            " |-- EmploymentType: integer (nullable = true)\n",
            " |-- HasMortgage: integer (nullable = false)\n",
            " |-- HasDependents: integer (nullable = false)\n",
            " |-- HasCoSigner: integer (nullable = false)\n",
            " |-- Default: integer (nullable = true)\n",
            " |-- DebtAmount: double (nullable = true)\n",
            " |-- LoanPurpose_Education: integer (nullable = false)\n",
            " |-- LoanPurpose_Home: integer (nullable = false)\n",
            " |-- LoanPurpose_Other: integer (nullable = false)\n",
            " |-- LoanPurpose_Auto: integer (nullable = false)\n",
            " |-- LoanPurpose_Business: integer (nullable = false)\n",
            " |-- MaritalStatus_Married: integer (nullable = false)\n",
            " |-- MaritalStatus_Single: integer (nullable = false)\n",
            " |-- MaritalStatus_Divorced: integer (nullable = false)\n",
            " |-- Education_HighSchool: integer (nullable = false)\n",
            " |-- Education_Bachelor: integer (nullable = false)\n",
            " |-- Education_Master: integer (nullable = false)\n",
            " |-- Education_PhD: integer (nullable = false)\n",
            "\n"
          ]
        }
      ]
    },
    {
      "cell_type": "code",
      "source": [
        "df.show()"
      ],
      "metadata": {
        "id": "6qDrBtitiVLu",
        "outputId": "45b38841-7a82-4701-f6be-b9dfe705569f",
        "colab": {
          "base_uri": "https://localhost:8080/"
        }
      },
      "execution_count": null,
      "outputs": [
        {
          "output_type": "stream",
          "name": "stdout",
          "text": [
            "+---+------+----------+-----------+--------------+--------------+------------+--------+--------+--------------+-----------+-------------+-----------+-------+----------+---------------------+----------------+-----------------+----------------+--------------------+---------------------+--------------------+----------------------+--------------------+------------------+----------------+-------------+\n",
            "|Age|Income|LoanAmount|CreditScore|MonthsEmployed|NumCreditLines|InterestRate|LoanTerm|DTIRatio|EmploymentType|HasMortgage|HasDependents|HasCoSigner|Default|DebtAmount|LoanPurpose_Education|LoanPurpose_Home|LoanPurpose_Other|LoanPurpose_Auto|LoanPurpose_Business|MaritalStatus_Married|MaritalStatus_Single|MaritalStatus_Divorced|Education_HighSchool|Education_Bachelor|Education_Master|Education_PhD|\n",
            "+---+------+----------+-----------+--------------+--------------+------------+--------+--------+--------------+-----------+-------------+-----------+-------+----------+---------------------+----------------+-----------------+----------------+--------------------+---------------------+--------------------+----------------------+--------------------+------------------+----------------+-------------+\n",
            "| 56| 85994|     50587|        520|            80|             4|       15.23|      36|    0.44|             2|          1|            1|          1|      0|  37837.36|                    0|               0|                1|               0|                   0|                    0|                   0|                     1|                   0|                 1|               0|            0|\n",
            "| 69| 50432|    124440|        458|            15|             1|        4.81|      60|    0.68|             2|          0|            0|          1|      0|  34293.76|                    0|               0|                1|               0|                   0|                    1|                   0|                     0|                   0|                 0|               1|            0|\n",
            "| 46| 84208|    129188|        451|            26|             3|       21.17|      24|    0.31|             0|          1|            1|          0|      1|  26104.48|                    0|               0|                0|               1|                   0|                    0|                   0|                     1|                   0|                 0|               1|            0|\n",
            "| 32| 31713|     44799|        743|             0|             3|        7.07|      24|    0.23|             2|          0|            0|          0|      0|   7293.99|                    0|               0|                0|               0|                   1|                    1|                   0|                     0|                   1|                 0|               0|            0|\n",
            "| 60| 20437|      9139|        633|             8|             4|        6.51|      48|    0.73|             0|          0|            1|          0|      0|  14919.01|                    0|               0|                0|               1|                   0|                    0|                   0|                     1|                   0|                 1|               0|            0|\n",
            "| 25| 90298|     90448|        720|            18|             2|       22.72|      24|     0.1|             0|          1|            0|          1|      1|    9029.8|                    0|               0|                0|               0|                   1|                    0|                   1|                     0|                   1|                 0|               0|            0|\n",
            "| 38|111188|    177025|        429|            80|             1|       19.11|      12|    0.16|             0|          1|            0|          1|      0|  17790.08|                    0|               1|                0|               0|                   0|                    0|                   1|                     0|                   0|                 1|               0|            0|\n",
            "| 56|126802|    155511|        531|            67|             4|        8.15|      60|    0.43|             2|          0|            0|          1|      0|  54524.86|                    0|               1|                0|               0|                   0|                    1|                   0|                     0|                   0|                 0|               0|            1|\n",
            "| 36| 42053|     92357|        827|            83|             1|       23.94|      48|     0.2|             3|          1|            0|          0|      1|    8410.6|                    1|               0|                0|               0|                   0|                    0|                   0|                     1|                   0|                 1|               0|            0|\n",
            "| 40|132784|    228510|        480|           114|             4|        9.09|      48|    0.33|             3|          1|            0|          1|      0|  43818.72|                    0|               0|                1|               0|                   0|                    1|                   0|                     0|                   1|                 0|               0|            0|\n",
            "| 28|140466|    163781|        652|            94|             2|        9.08|      48|    0.23|             0|          0|            0|          0|      0|  32307.18|                    1|               0|                0|               0|                   0|                    1|                   0|                     0|                   1|                 0|               0|            0|\n",
            "| 28|149227|    139759|        375|            56|             3|        5.84|      36|     0.8|             2|          0|            0|          1|      1|  119381.6|                    1|               0|                0|               0|                   0|                    0|                   0|                     1|                   0|                 0|               0|            1|\n",
            "| 41| 23265|     63527|        829|            87|             4|        9.73|      60|    0.45|             2|          1|            0|          1|      0|  10469.25|                    0|               0|                0|               1|                   0|                    0|                   0|                     1|                   0|                 0|               1|            0|\n",
            "| 53|117550|     95744|        395|           112|             4|        3.58|      24|    0.73|             0|          0|            0|          1|      0|   85811.5|                    0|               0|                0|               1|                   0|                    0|                   1|                     0|                   1|                 0|               0|            0|\n",
            "| 57|139699|     88143|        635|           112|             4|        5.63|      48|     0.2|             1|          0|            0|          0|      0|   27939.8|                    0|               1|                0|               0|                   0|                    0|                   0|                     1|                   0|                 0|               1|            0|\n",
            "| 41| 74064|    230883|        432|            31|             2|         5.0|      60|    0.89|             0|          1|            0|          0|      0|  65916.96|                    0|               0|                0|               1|                   0|                    1|                   0|                     0|                   0|                 0|               1|            0|\n",
            "| 20|119704|     25697|        313|            49|             1|        9.63|      24|    0.28|             0|          1|            0|          0|      0|  33517.12|                    0|               1|                0|               0|                   0|                    0|                   1|                     0|                   0|                 0|               0|            1|\n",
            "| 39| 33015|     10889|        811|           106|             2|       13.56|      60|    0.66|             3|          1|            0|          0|      0|   21789.9|                    0|               0|                1|               0|                   0|                    0|                   1|                     0|                   0|                 0|               1|            0|\n",
            "| 19| 40718|     78515|        319|           119|             2|        14.0|      24|    0.17|             3|          1|            0|          0|      1|   6922.06|                    1|               0|                0|               0|                   0|                    0|                   0|                     1|                   0|                 1|               0|            0|\n",
            "| 41|123419|    161146|        376|            65|             4|       16.96|      60|    0.39|             3|          1|            0|          1|      0|  48133.41|                    0|               0|                1|               0|                   0|                    0|                   1|                     0|                   1|                 0|               0|            0|\n",
            "+---+------+----------+-----------+--------------+--------------+------------+--------+--------+--------------+-----------+-------------+-----------+-------+----------+---------------------+----------------+-----------------+----------------+--------------------+---------------------+--------------------+----------------------+--------------------+------------------+----------------+-------------+\n",
            "only showing top 20 rows\n",
            "\n"
          ]
        }
      ]
    },
    {
      "cell_type": "markdown",
      "source": [
        "### We use coalesce() to get a single file"
      ],
      "metadata": {
        "id": "5bUkm8f5ip9V"
      }
    },
    {
      "cell_type": "code",
      "source": [
        "df.coalesce(1).write.csv(\"spark_cleaned_data.csv\", header=True)"
      ],
      "metadata": {
        "id": "4ypnwZsQZV8r"
      },
      "execution_count": null,
      "outputs": []
    },
    {
      "cell_type": "markdown",
      "source": [
        "### Things done in Spark :\n",
        "1. Checked for missing value\n",
        "2. Checked for duplicate rows\n",
        "3. converted binary categorical columns (with \"Yes\"/\"No\" values) into numerical columns (1/0 integers)."
      ],
      "metadata": {
        "id": "SAps-3lGTepG"
      }
    },
    {
      "cell_type": "code",
      "source": [
        "# Convert Spark DataFrame to Pandas DataFrame\n",
        "pandas_df = df.toPandas()\n",
        "\n",
        "# Export Pandas DataFrame to Excel\n",
        "pandas_df.to_excel(\"spark_cleaned_data.xlsx\", index=False)"
      ],
      "metadata": {
        "id": "2Y4eA7BKTeDJ"
      },
      "execution_count": null,
      "outputs": []
    },
    {
      "cell_type": "code",
      "source": [],
      "metadata": {
        "id": "Z4Z74Pabe-e5"
      },
      "execution_count": null,
      "outputs": []
    }
  ]
}